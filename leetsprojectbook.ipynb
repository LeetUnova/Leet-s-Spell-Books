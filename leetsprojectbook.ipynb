{
 "cells": [
  {
   "cell_type": "markdown",
   "metadata": {},
   "source": [
    "Project Generator"
   ]
  },
  {
   "cell_type": "code",
   "execution_count": 49,
   "metadata": {},
   "outputs": [],
   "source": [
    "class Python:\n",
    "    def imp(*packages: str) -> str: return \"\".join([f\"import {package}\\n\" for package in packages])\n",
    "    def whi(condition: str, content: str) -> str: return f\"while {condition}:\\n    {content.replace(\"\\n\", \"\\n    \")}\"\n",
    "    def fo(condition: str, content: str) -> str: return f\"for {condition}:\\n    {content.replace(\"\\n\", \"\\n    \")}\"\n",
    "    class IdentRef:\n",
    "        def __init__(self, name: str) -> None: self.name = name\n",
    "        def __call__(self, func: str, *args: str) -> str: return f\"{self.name}.{func}({str([arg for arg in args])[1:-1]})\\n\"\n",
    "        def sub(self, name: str): return Python.IdentRef(f\"{self.name}.{name}\")\n",
    "        def __getitem__(self, vari: str) -> str: return f\"{self.name} = {vari}\"\n",
    "        def __eq__(self, value) -> str: return f\"{self.name} == {value}\"\n",
    "        def __or__(self, value) -> str: return f\"{self.name} = {value}\""
   ]
  },
  {
   "cell_type": "markdown",
   "metadata": {},
   "source": [
    "Pygame"
   ]
  },
  {
   "cell_type": "code",
   "execution_count": 59,
   "metadata": {},
   "outputs": [],
   "source": [
    "projectname = input(\"Project name?\")\n",
    "\n",
    "def create_pygame_main(pname: str) -> str:\n",
    "    pg, don = Python.IdentRef(\"pygame\"), Python.IdentRef(\"done\")\n",
    "    pgd = pg.sub(\"display\")\n",
    "    pgdr = pg.sub(\"draw\")\n",
    "    return Python.imp(\"pygame\")+\"\\n\"+pg(\"init\")+f\"window = {pgd('set_mode',(1280,720))}\"+pgd(\"set_caption\",pname)+don[False]+\"\\n\\n\"+Python.whi(don==False,pgdr(\"rect\",\"window\",(0,0,0),(0,0,1280,720))+Python.fo(\"event in pygame.event.get()\",don|True)+\"\\n\"+pgd(\"flip\"))+\"\\n\"+pg(\"quit\")\n",
    "\n",
    "with open(projectname + \".py\", mode=\"x\") as file:\n",
    "    file.write(create_pygame_main(projectname))"
   ]
  }
 ],
 "metadata": {
  "kernelspec": {
   "display_name": "Python 3",
   "language": "python",
   "name": "python3"
  },
  "language_info": {
   "codemirror_mode": {
    "name": "ipython",
    "version": 3
   },
   "file_extension": ".py",
   "mimetype": "text/x-python",
   "name": "python",
   "nbconvert_exporter": "python",
   "pygments_lexer": "ipython3",
   "version": "3.12.8"
  }
 },
 "nbformat": 4,
 "nbformat_minor": 2
}
