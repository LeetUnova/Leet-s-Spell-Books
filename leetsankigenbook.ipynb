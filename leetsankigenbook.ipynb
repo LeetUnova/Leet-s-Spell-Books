{
 "cells": [
  {
   "cell_type": "markdown",
   "metadata": {},
   "source": [
    "Library Installation"
   ]
  },
  {
   "cell_type": "code",
   "execution_count": null,
   "metadata": {},
   "outputs": [],
   "source": [
    "import sys\n",
    "!{sys.executable} -m pip install googletrans\n",
    "!{sys.executable} -m pip install genanki"
   ]
  },
  {
   "cell_type": "markdown",
   "metadata": {},
   "source": [
    "Initialization"
   ]
  },
  {
   "cell_type": "code",
   "execution_count": 69,
   "metadata": {},
   "outputs": [],
   "source": [
    "from googletrans import Translator\n",
    "import genanki\n",
    "\n",
    "async def translate_text(text: str, src_lang: str, dest_lang: str) -> str:\n",
    "    async with Translator() as translator:\n",
    "        result = await translator.translate(text, src=src_lang, dest=dest_lang)\n",
    "        return result.text\n",
    "\n",
    "async def lang_of_text(text: str) -> str:\n",
    "    async with Translator() as translator:\n",
    "        result = await translator.detect(text)\n",
    "        return result.lang\n",
    "    \n",
    "anki_model = genanki.Model(\n",
    "    1215581359,\n",
    "    \"Leet Model 1215581359\",\n",
    "    fields=[{\"name\": \"Question\"}, {\"name\": \"Answer\"}],\n",
    "    templates=[{\"name\": \"Card 1\", \"qfmt\": \"{{Question}}\", \"afmt\": '{{FrontSide}}<hr id=\"answer\">{{Answer}}'}]\n",
    ")"
   ]
  },
  {
   "cell_type": "markdown",
   "metadata": {},
   "source": [
    "Set File"
   ]
  },
  {
   "cell_type": "code",
   "execution_count": 70,
   "metadata": {},
   "outputs": [],
   "source": [
    "meta = (input(\"What file are you basing the cards off of?\"), input(\"What is the original language? (use language code)\"))"
   ]
  },
  {
   "cell_type": "markdown",
   "metadata": {},
   "source": [
    "Load File into Memory"
   ]
  },
  {
   "cell_type": "code",
   "execution_count": 71,
   "metadata": {},
   "outputs": [],
   "source": [
    "file_text = \"\"\n",
    "with open(meta[0], encoding=\"utf-8\") as file: file_text = file.read()"
   ]
  },
  {
   "cell_type": "markdown",
   "metadata": {},
   "source": [
    "Create Deck"
   ]
  },
  {
   "cell_type": "code",
   "execution_count": null,
   "metadata": {},
   "outputs": [],
   "source": [
    "import random\n",
    "\n",
    "random.seed(meta[0])\n",
    "deck = genanki.Deck(random.randrange(1 << 30, 1 << 31), meta[0].split(\".\")[0])\n",
    "\n",
    "def removeSymbols(text: str) -> str:\n",
    "    for sym in \"!.,\\\"\\\\/?¿¡:;«»@#$%^&*()_=+|[]{}1234567890\": text = text.replace(sym, \"\")\n",
    "    return text\n",
    "\n",
    "file_text = removeSymbols(file_text)\n",
    "added_words = []\n",
    "\n",
    "for word in file_text.split():\n",
    "    if word in added_words: continue\n",
    "    if await lang_of_text(word) != meta[1]: continue\n",
    "    translated = await translate_text(word, meta[1], \"en\")\n",
    "    added_words.append(word)\n",
    "    deck.add_note(genanki.Note(model=anki_model, fields=[f\"<h1>{word}</h1>\", f\"<h1>{translated}</h1>\"]))\n",
    "    print(f\"Words added: {len(added_words)}. Added {word}.\")"
   ]
  },
  {
   "cell_type": "markdown",
   "metadata": {},
   "source": [
    "Save Deck"
   ]
  },
  {
   "cell_type": "code",
   "execution_count": 73,
   "metadata": {},
   "outputs": [],
   "source": [
    "genanki.Package(deck).write_to_file(meta[0].split(\".\")[0] + \".apkg\")"
   ]
  }
 ],
 "metadata": {
  "kernelspec": {
   "display_name": "Python 3",
   "language": "python",
   "name": "python3"
  },
  "language_info": {
   "codemirror_mode": {
    "name": "ipython",
    "version": 3
   },
   "file_extension": ".py",
   "mimetype": "text/x-python",
   "name": "python",
   "nbconvert_exporter": "python",
   "pygments_lexer": "ipython3",
   "version": "3.12.8"
  }
 },
 "nbformat": 4,
 "nbformat_minor": 2
}
